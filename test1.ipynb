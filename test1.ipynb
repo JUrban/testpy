{
  "nbformat": 4,
  "nbformat_minor": 0,
  "metadata": {
    "colab": {
      "name": "Untitled4.ipynb",
      "provenance": [],
      "collapsed_sections": []
    },
    "kernelspec": {
      "name": "python3",
      "display_name": "Python 3"
    },
    "language_info": {
      "name": "python"
    }
  },
  "cells": [
    {
      "cell_type": "code",
      "execution_count": 1,
      "metadata": {
        "colab": {
          "base_uri": "https://localhost:8080/"
        },
        "id": "hSxDaSRvw-rr",
        "outputId": "236942ed-0d8f-46ce-8121-1c413cdcb3e1"
      },
      "outputs": [
        {
          "output_type": "stream",
          "name": "stdout",
          "text": [
            "7\n",
            "22\n",
            "11\n",
            "34\n",
            "17\n",
            "52\n",
            "26\n",
            "13\n",
            "40\n",
            "20\n",
            "10\n",
            "5\n",
            "16\n",
            "8\n",
            "4\n",
            "2\n"
          ]
        }
      ],
      "source": [
        "def f(x):\n",
        "  x1 = 9\n",
        "  for i1 in range (1,(x + 3) + 1):\n",
        "    x1 = x1 // 2 if x1 % 2 <= 0 else 3*x1 + 1\n",
        "  return x1\n",
        "\n",
        "for x in range(16):\n",
        "  print (f(x))"
      ]
    }
  ]
}
